{
 "cells": [
  {
   "cell_type": "markdown",
   "id": "e03e5b32-e7bd-4b10-894a-2c4ffbfaef5f",
   "metadata": {},
   "source": [
    "# Data Science Tools and Ecosystem"
   ]
  },
  {
   "cell_type": "markdown",
   "id": "c1159cc6-5de0-4b03-bc43-1ab2536229b1",
   "metadata": {},
   "source": [
    "In this notebook, Data Science Tools and Ecosystem are summarized."
   ]
  },
  {
   "cell_type": "markdown",
   "id": "e26e8467-6e9d-4e1b-850d-36d75dd8332e",
   "metadata": {},
   "source": [
    "Some of the popular languages that Data Scientists use are:\n",
    "1. Python\n",
    "2. R\n",
    "3. SQL\n",
    "4. Java\n",
    "5. Julia\n",
    "6. Scala\n",
    "7. Javascript\n"
   ]
  },
  {
   "cell_type": "markdown",
   "id": "4475e298-829a-4f69-8889-7a208810f6a1",
   "metadata": {},
   "source": [
    "Some of the commonly used libraries used by Data Scientists include:\n",
    "1. NumPy\n",
    "2. Matplotlib\n",
    "3. Pandas\n",
    "4. SciPy\n",
    "5. PyTorch\n",
    "6. Seaborn"
   ]
  },
  {
   "cell_type": "markdown",
   "id": "fb105c8f-a886-4c65-ae0c-aec55552e0b3",
   "metadata": {},
   "source": [
    "| Data Science Tools|\n",
    "| -------- | \n",
    "| Apache Spark  | \n",
    "| RStudio | \n",
    "| Spyder  |"
   ]
  },
  {
   "cell_type": "markdown",
   "id": "d6bd0250-ea72-44d0-babb-45774e39302e",
   "metadata": {},
   "source": [
    "### Below are a few examples of evaluating arithmetic expressions in Python."
   ]
  },
  {
   "cell_type": "code",
   "execution_count": 2,
   "id": "c40f4334-5a7f-40a0-8b71-c922004b0027",
   "metadata": {},
   "outputs": [
    {
     "data": {
      "text/plain": [
       "17"
      ]
     },
     "execution_count": 2,
     "metadata": {},
     "output_type": "execute_result"
    }
   ],
   "source": [
    "#This a simple arithmetic expression to mutiply then add integers\n",
    "(3*4)+5"
   ]
  },
  {
   "cell_type": "code",
   "execution_count": 3,
   "id": "56e736d4-3197-4ead-9238-7f26defb4399",
   "metadata": {},
   "outputs": [
    {
     "data": {
      "text/plain": [
       "3.3333333333333335"
      ]
     },
     "execution_count": 3,
     "metadata": {},
     "output_type": "execute_result"
    }
   ],
   "source": [
    "#This will convert 200 minutes to hours by diving by 60\n",
    "200/60"
   ]
  },
  {
   "cell_type": "markdown",
   "id": "30b99a7f-c393-4712-974d-463683e82689",
   "metadata": {},
   "source": [
    "**Objectives:**\n",
    "1. List popular languages for data science\n",
    "2. development environments for data science\n",
    "3. data visualization"
   ]
  },
  {
   "cell_type": "markdown",
   "id": "6c89e92b-6ec9-4b3d-833e-ef24b431632c",
   "metadata": {},
   "source": [
    "## Author\n",
    "Anjal Hussan"
   ]
  },
  {
   "cell_type": "code",
   "execution_count": null,
   "id": "447a820b-a6e8-47bd-b449-056277b5da3b",
   "metadata": {},
   "outputs": [],
   "source": []
  }
 ],
 "metadata": {
  "kernelspec": {
   "display_name": "Python 3 (ipykernel)",
   "language": "python",
   "name": "python3"
  },
  "language_info": {
   "codemirror_mode": {
    "name": "ipython",
    "version": 3
   },
   "file_extension": ".py",
   "mimetype": "text/x-python",
   "name": "python",
   "nbconvert_exporter": "python",
   "pygments_lexer": "ipython3",
   "version": "3.12.4"
  }
 },
 "nbformat": 4,
 "nbformat_minor": 5
}

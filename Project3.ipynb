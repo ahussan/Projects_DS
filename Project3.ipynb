{
 "cells": [
  {
   "cell_type": "markdown",
   "metadata": {},
   "source": [
    "## Data 620 - Project 3\n",
    "\n",
    "\n",
    "By Anjal Hussan\n",
    "\n",    "\n",
    "\n",
    "\n"
   ]
  },
  {
   "cell_type": "markdown",
   "metadata": {},
   "source": [
    "### Assignment\n",
    "*Using any of the three classifiers described in chapter 6 of Natural Language Processing with Python, and any features you can think of, build the best name gender classifier you can. Begin by splitting the Names Corpus into three subsets: 500 words for the test set, 500 words for the dev-test set, and the remaining 6900 words for the training set. Then, starting with the example name gender classifier, make incremental improvements. Use the dev-test set to check your progress. Once you are satisfied with your classifier, check its final performance on the test set. How does the performance on the test set compare to the performance on the dev-test set? Is this what you'd expect?*"
   ]
  },
  {
   "cell_type": "markdown",
   "metadata": {},
   "source": [
    "--- \n",
    "\n",
    "\n",
    "In this project, we will use Naive Bayes and Maximum Entropy classifiers with various features to provide predictions of gender for a English-language name. The dataset used in this project is a labelled corpus of male and female names from the NLTK package: `nltk.corpus.names`.  \n",
    "\n",
    "**Project structure**  \n",
    "  \n",
    "1) Data preparation: in this step the input data is inspected and cleaned, then a holdout set is separated from the training dataset   \n",
    "2) Initial feature generation and classifier training: the first feature extraction function is applied on the training data, and an initial Naive Bayes model is trained to generate the baseline for model accuracy  \n",
    "3) Generation of additional features: additional features are generated manually from the data, Naive Bayes classifiers are re-trained and compared using cross-validation  \n",
    "4) Application of a more complex model - Maximum Entropy on the best set of features and a test vs. the previous iterations  \n",
    "5) Final test of the best model on the holdout set\n",
    "  \n",
    "**Summary of the findings**  \n",
    "  \n",
    "1) The dataset had to be cleaned before processing, as it contained records of identical names assigned to both genders.  \n",
    "2) The most important features for the correct assignment of names are contained in the ending letters, e.g. names ending in \"-na\" are very likely to be female.  \n",
    "3) The Maximum Entropy classifier does not perform better than Naive Bayes on the selected set of features, and thus a simpler model was used in the final test.  \n",
    "4) The final accuracy achieved on the test set was **87.6%**."
   ]
  },
  {
   "cell_type": "markdown",
   "metadata": {},
   "source": [
    "### 1. Load and clean the data, prepare the training and test datasets"
   ]
  },
  {
   "cell_type": "code",
   "execution_count": 1,
   "metadata": {
    "collapsed": false
   },
   "outputs": [
    {
     "name": "stderr",
     "output_type": "stream",
     "text": [
      "[nltk_data] Downloading package names to\n",
      "[nltk_data]     C:\\Users\\jshi3\\AppData\\Roaming\\nltk_data...\n",
      "[nltk_data]   Package names is already up-to-date!\n"
     ]
    },
    {
     "data": {
      "text/plain": [
       "True"
      ]
     },
     "execution_count": 1,
     "metadata": {},
     "output_type": "execute_result"
    }
   ],
   "source": [
    "import nltk\n",
    "\n",
    "nltk.download('names')"
   ]
  },
  {
   "cell_type": "code",
   "execution_count": 5,
   "metadata": {
    "collapsed": true
   },
   "outputs": [],
   "source": [
    "from nltk.corpus import names\n",
    "import random\n",
    "from nltk.classify import apply_features\n",
    "import matplotlib.pyplot as plt\n",
    "%matplotlib inline"
   ]
  },
  {
   "cell_type": "code",
   "execution_count": 6,
   "metadata": {
    "collapsed": false
   },
   "outputs": [],
   "source": [
    "names = ([(name, \"male\") for name in names.words(\"male.txt\")] + \n",
    "         [(name, \"female\") for name in names.words(\"female.txt\")])"
   ]
  },
  {
   "cell_type": "code",
   "execution_count": 7,
   "metadata": {
    "collapsed": true
   },
   "outputs": [],
   "source": [
    "a = nltk.FreqDist(names)"
   ]
  },
  {
   "cell_type": "code",
   "execution_count": 8,
   "metadata": {
    "collapsed": false
   },
   "outputs": [
    {
     "data": {
      "text/plain": [
       "[('Marietta', 'male'), ('Marietta', 'female')]"
      ]
     },
     "execution_count": 8,
     "metadata": {},
     "output_type": "execute_result"
    }
   ],
   "source": [
    "[item for item in names if item[0]==\"Marietta\"]"
   ]
  },
  {
   "cell_type": "code",
   "execution_count": 10,
   "metadata": {
    "collapsed": false
   },
   "outputs": [
    {
     "name": "stdout",
     "output_type": "stream",
     "text": [
      "7944 37.046827794561935\n"
     ]
    }
   ],
   "source": [
    "print (len(names), 100 * len([item for item in names if item[1] == \"male\"])/len(names))"
   ]
  },
  {
   "cell_type": "code",
   "execution_count": 11,
   "metadata": {
    "collapsed": false
   },
   "outputs": [
    {
     "data": {
      "text/plain": [
       "7579"
      ]
     },
     "execution_count": 11,
     "metadata": {},
     "output_type": "execute_result"
    }
   ],
   "source": [
    "# Check data for distinct names\n",
    "only_names = [item[0] for item in names]\n",
    "len(set(only_names))"
   ]
  },
  {
   "cell_type": "markdown",
   "metadata": {},
   "source": [
    "There are 7944 records in total, 37% are male names, and 63% are female names.\n",
    "However, there are only 7579 unique names in the dataset.\n",
    "Before proceeding, we need to clean the names occurring multiple times, as they do not add information, but may skew the classifier results.\n",
    "  \n"
   ]
  },
  {
   "cell_type": "code",
   "execution_count": 18,
   "metadata": {
    "collapsed": false
   },
   "outputs": [
    {
     "data": {
      "text/plain": [
       "[(2, 'Abbey'),\n",
       " (2, 'Abbie'),\n",
       " (2, 'Abby'),\n",
       " (2, 'Addie'),\n",
       " (2, 'Adrian'),\n",
       " (2, 'Adrien'),\n",
       " (2, 'Ajay'),\n",
       " (2, 'Alex'),\n",
       " (2, 'Alexis'),\n",
       " (2, 'Alfie'),\n",
       " (2, 'Ali'),\n",
       " (2, 'Alix'),\n",
       " (2, 'Allie'),\n",
       " (2, 'Allyn'),\n",
       " (2, 'Andie'),\n",
       " (2, 'Andrea'),\n",
       " (2, 'Andy'),\n",
       " (2, 'Angel'),\n",
       " (2, 'Angie'),\n",
       " (2, 'Ariel'),\n",
       " (2, 'Ashley'),\n",
       " (2, 'Aubrey'),\n",
       " (2, 'Augustine'),\n",
       " (2, 'Austin'),\n",
       " (2, 'Averil'),\n",
       " (2, 'Barrie'),\n",
       " (2, 'Barry'),\n",
       " (2, 'Beau'),\n",
       " (2, 'Bennie'),\n",
       " (2, 'Benny'),\n",
       " (2, 'Bernie'),\n",
       " (2, 'Bert'),\n",
       " (2, 'Bertie'),\n",
       " (2, 'Bill'),\n",
       " (2, 'Billie'),\n",
       " (2, 'Billy'),\n",
       " (2, 'Blair'),\n",
       " (2, 'Blake'),\n",
       " (2, 'Bo'),\n",
       " (2, 'Bobbie'),\n",
       " (2, 'Bobby'),\n",
       " (2, 'Brandy'),\n",
       " (2, 'Brett'),\n",
       " (2, 'Britt'),\n",
       " (2, 'Brook'),\n",
       " (2, 'Brooke'),\n",
       " (2, 'Brooks'),\n",
       " (2, 'Bryn'),\n",
       " (2, 'Cal'),\n",
       " (2, 'Cam'),\n",
       " (2, 'Cammy'),\n",
       " (2, 'Carey'),\n",
       " (2, 'Carlie'),\n",
       " (2, 'Carlin'),\n",
       " (2, 'Carmine'),\n",
       " (2, 'Carroll'),\n",
       " (2, 'Cary'),\n",
       " (2, 'Caryl'),\n",
       " (2, 'Casey'),\n",
       " (2, 'Cass'),\n",
       " (2, 'Cat'),\n",
       " (2, 'Cecil'),\n",
       " (2, 'Chad'),\n",
       " (2, 'Chris'),\n",
       " (2, 'Chrissy'),\n",
       " (2, 'Christian'),\n",
       " (2, 'Christie'),\n",
       " (2, 'Christy'),\n",
       " (2, 'Clair'),\n",
       " (2, 'Claire'),\n",
       " (2, 'Clare'),\n",
       " (2, 'Claude'),\n",
       " (2, 'Clem'),\n",
       " (2, 'Clemmie'),\n",
       " (2, 'Cody'),\n",
       " (2, 'Connie'),\n",
       " (2, 'Constantine'),\n",
       " (2, 'Corey'),\n",
       " (2, 'Corrie'),\n",
       " (2, 'Cory'),\n",
       " (2, 'Courtney'),\n",
       " (2, 'Cris'),\n",
       " (2, 'Daffy'),\n",
       " (2, 'Dale'),\n",
       " (2, 'Dallas'),\n",
       " (2, 'Dana'),\n",
       " (2, 'Dani'),\n",
       " (2, 'Daniel'),\n",
       " (2, 'Dannie'),\n",
       " (2, 'Danny'),\n",
       " (2, 'Darby'),\n",
       " (2, 'Darcy'),\n",
       " (2, 'Darryl'),\n",
       " (2, 'Daryl'),\n",
       " (2, 'Deane'),\n",
       " (2, 'Del'),\n",
       " (2, 'Dell'),\n",
       " (2, 'Demetris'),\n",
       " (2, 'Dennie'),\n",
       " (2, 'Denny'),\n",
       " (2, 'Devin'),\n",
       " (2, 'Devon'),\n",
       " (2, 'Dion'),\n",
       " (2, 'Dionis'),\n",
       " (2, 'Dominique'),\n",
       " (2, 'Donnie'),\n",
       " (2, 'Donny'),\n",
       " (2, 'Dorian'),\n",
       " (2, 'Dory'),\n",
       " (2, 'Drew'),\n",
       " (2, 'Eddie'),\n",
       " (2, 'Eddy'),\n",
       " (2, 'Edie'),\n",
       " (2, 'Elisha'),\n",
       " (2, 'Emmy'),\n",
       " (2, 'Erin'),\n",
       " (2, 'Esme'),\n",
       " (2, 'Evelyn'),\n",
       " (2, 'Felice'),\n",
       " (2, 'Fran'),\n",
       " (2, 'Francis'),\n",
       " (2, 'Frank'),\n",
       " (2, 'Frankie'),\n",
       " (2, 'Franky'),\n",
       " (2, 'Fred'),\n",
       " (2, 'Freddie'),\n",
       " (2, 'Freddy'),\n",
       " (2, 'Gabriel'),\n",
       " (2, 'Gabriell'),\n",
       " (2, 'Gail'),\n",
       " (2, 'Gale'),\n",
       " (2, 'Gay'),\n",
       " (2, 'Gayle'),\n",
       " (2, 'Gene'),\n",
       " (2, 'George'),\n",
       " (2, 'Georgia'),\n",
       " (2, 'Georgie'),\n",
       " (2, 'Geri'),\n",
       " (2, 'Germaine'),\n",
       " (2, 'Gerri'),\n",
       " (2, 'Gerry'),\n",
       " (2, 'Gill'),\n",
       " (2, 'Ginger'),\n",
       " (2, 'Glen'),\n",
       " (2, 'Glenn'),\n",
       " (2, 'Grace'),\n",
       " (2, 'Gretchen'),\n",
       " (2, 'Gus'),\n",
       " (2, 'Haleigh'),\n",
       " (2, 'Haley'),\n",
       " (2, 'Hannibal'),\n",
       " (2, 'Harley'),\n",
       " (2, 'Hazel'),\n",
       " (2, 'Heath'),\n",
       " (2, 'Henrie'),\n",
       " (2, 'Hilary'),\n",
       " (2, 'Hillary'),\n",
       " (2, 'Holly'),\n",
       " (2, 'Ike'),\n",
       " (2, 'Ikey'),\n",
       " (2, 'Ira'),\n",
       " (2, 'Isa'),\n",
       " (2, 'Isador'),\n",
       " (2, 'Isadore'),\n",
       " (2, 'Jackie'),\n",
       " (2, 'Jaime'),\n",
       " (2, 'Jamie'),\n",
       " (2, 'Jan'),\n",
       " (2, 'Jean'),\n",
       " (2, 'Jere'),\n",
       " (2, 'Jermaine'),\n",
       " (2, 'Jerrie'),\n",
       " (2, 'Jerry'),\n",
       " (2, 'Jess'),\n",
       " (2, 'Jesse'),\n",
       " (2, 'Jessie'),\n",
       " (2, 'Jo'),\n",
       " (2, 'Jodi'),\n",
       " (2, 'Jodie'),\n",
       " (2, 'Jody'),\n",
       " (2, 'Joey'),\n",
       " (2, 'Jordan'),\n",
       " (2, 'Juanita'),\n",
       " (2, 'Jude'),\n",
       " (2, 'Judith'),\n",
       " (2, 'Judy'),\n",
       " (2, 'Julie'),\n",
       " (2, 'Justin'),\n",
       " (2, 'Karel'),\n",
       " (2, 'Kellen'),\n",
       " (2, 'Kelley'),\n",
       " (2, 'Kelly'),\n",
       " (2, 'Kelsey'),\n",
       " (2, 'Kerry'),\n",
       " (2, 'Kim'),\n",
       " (2, 'Kip'),\n",
       " (2, 'Kirby'),\n",
       " (2, 'Kit'),\n",
       " (2, 'Kris'),\n",
       " (2, 'Kyle'),\n",
       " (2, 'Lane'),\n",
       " (2, 'Lanny'),\n",
       " (2, 'Lauren'),\n",
       " (2, 'Laurie'),\n",
       " (2, 'Lee'),\n",
       " (2, 'Leigh'),\n",
       " (2, 'Leland'),\n",
       " (2, 'Lesley'),\n",
       " (2, 'Leslie'),\n",
       " (2, 'Lin'),\n",
       " (2, 'Lind'),\n",
       " (2, 'Lindsay'),\n",
       " (2, 'Lindsey'),\n",
       " (2, 'Lindy'),\n",
       " (2, 'Lonnie'),\n",
       " (2, 'Loren'),\n",
       " (2, 'Lorne'),\n",
       " (2, 'Lorrie'),\n",
       " (2, 'Lou'),\n",
       " (2, 'Luce'),\n",
       " (2, 'Lyn'),\n",
       " (2, 'Lynn'),\n",
       " (2, 'Maddie'),\n",
       " (2, 'Maddy'),\n",
       " (2, 'Marietta'),\n",
       " (2, 'Marion'),\n",
       " (2, 'Marlo'),\n",
       " (2, 'Martie'),\n",
       " (2, 'Marty'),\n",
       " (2, 'Mattie'),\n",
       " (2, 'Matty'),\n",
       " (2, 'Maurise'),\n",
       " (2, 'Max'),\n",
       " (2, 'Maxie'),\n",
       " (2, 'Mead'),\n",
       " (2, 'Meade'),\n",
       " (2, 'Mel'),\n",
       " (2, 'Meredith'),\n",
       " (2, 'Merle'),\n",
       " (2, 'Merrill'),\n",
       " (2, 'Merry'),\n",
       " (2, 'Meryl'),\n",
       " (2, 'Michal'),\n",
       " (2, 'Michel'),\n",
       " (2, 'Michele'),\n",
       " (2, 'Mickie'),\n",
       " (2, 'Micky'),\n",
       " (2, 'Millicent'),\n",
       " (2, 'Morgan'),\n",
       " (2, 'Morlee'),\n",
       " (2, 'Muffin'),\n",
       " (2, 'Nat'),\n",
       " (2, 'Nichole'),\n",
       " (2, 'Nickie'),\n",
       " (2, 'Nicky'),\n",
       " (2, 'Niki'),\n",
       " (2, 'Nikki'),\n",
       " (2, 'Noel'),\n",
       " (2, 'Ollie'),\n",
       " (2, 'Page'),\n",
       " (2, 'Paige'),\n",
       " (2, 'Pat'),\n",
       " (2, 'Patrice'),\n",
       " (2, 'Patsy'),\n",
       " (2, 'Pattie'),\n",
       " (2, 'Patty'),\n",
       " (2, 'Pen'),\n",
       " (2, 'Pennie'),\n",
       " (2, 'Penny'),\n",
       " (2, 'Perry'),\n",
       " (2, 'Phil'),\n",
       " (2, 'Pooh'),\n",
       " (2, 'Quentin'),\n",
       " (2, 'Quinn'),\n",
       " (2, 'Randi'),\n",
       " (2, 'Randie'),\n",
       " (2, 'Randy'),\n",
       " (2, 'Ray'),\n",
       " (2, 'Regan'),\n",
       " (2, 'Reggie'),\n",
       " (2, 'Rene'),\n",
       " (2, 'Rey'),\n",
       " (2, 'Ricki'),\n",
       " (2, 'Rickie'),\n",
       " (2, 'Ricky'),\n",
       " (2, 'Rikki'),\n",
       " (2, 'Robbie'),\n",
       " (2, 'Robin'),\n",
       " (2, 'Ronnie'),\n",
       " (2, 'Ronny'),\n",
       " (2, 'Rory'),\n",
       " (2, 'Ruby'),\n",
       " (2, 'Sal'),\n",
       " (2, 'Sam'),\n",
       " (2, 'Sammy'),\n",
       " (2, 'Sandy'),\n",
       " (2, 'Sascha'),\n",
       " (2, 'Sasha'),\n",
       " (2, 'Saundra'),\n",
       " (2, 'Sayre'),\n",
       " (2, 'Scotty'),\n",
       " (2, 'Sean'),\n",
       " (2, 'Shaine'),\n",
       " (2, 'Shane'),\n",
       " (2, 'Shannon'),\n",
       " (2, 'Shaun'),\n",
       " (2, 'Shawn'),\n",
       " (2, 'Shay'),\n",
       " (2, 'Shayne'),\n",
       " (2, 'Shea'),\n",
       " (2, 'Shelby'),\n",
       " (2, 'Shell'),\n",
       " (2, 'Shelley'),\n",
       " (2, 'Sibyl'),\n",
       " (2, 'Simone'),\n",
       " (2, 'Sonnie'),\n",
       " (2, 'Sonny'),\n",
       " (2, 'Stacy'),\n",
       " (2, 'Sunny'),\n",
       " (2, 'Sydney'),\n",
       " (2, 'Tabbie'),\n",
       " (2, 'Tabby'),\n",
       " (2, 'Tallie'),\n",
       " (2, 'Tally'),\n",
       " (2, 'Tammie'),\n",
       " (2, 'Tammy'),\n",
       " (2, 'Tate'),\n",
       " (2, 'Ted'),\n",
       " (2, 'Teddie'),\n",
       " (2, 'Teddy'),\n",
       " (2, 'Terri'),\n",
       " (2, 'Terry'),\n",
       " (2, 'Theo'),\n",
       " (2, 'Tim'),\n",
       " (2, 'Timmie'),\n",
       " (2, 'Timmy'),\n",
       " (2, 'Tobe'),\n",
       " (2, 'Tobie'),\n",
       " (2, 'Toby'),\n",
       " (2, 'Tommie'),\n",
       " (2, 'Tommy'),\n",
       " (2, 'Tony'),\n",
       " (2, 'Torey'),\n",
       " (2, 'Trace'),\n",
       " (2, 'Tracey'),\n",
       " (2, 'Tracie'),\n",
       " (2, 'Tracy'),\n",
       " (2, 'Val'),\n",
       " (2, 'Vale'),\n",
       " (2, 'Valentine'),\n",
       " (2, 'Van'),\n",
       " (2, 'Vin'),\n",
       " (2, 'Vinnie'),\n",
       " (2, 'Vinny'),\n",
       " (2, 'Virgie'),\n",
       " (2, 'Wallie'),\n",
       " (2, 'Wallis'),\n",
       " (2, 'Wally'),\n",
       " (2, 'Whitney'),\n",
       " (2, 'Willi'),\n",
       " (2, 'Willie'),\n",
       " (2, 'Willy'),\n",
       " (2, 'Winnie'),\n",
       " (2, 'Winny'),\n",
       " (2, 'Wynn')]"
      ]
     },
     "execution_count": 18,
     "metadata": {},
     "output_type": "execute_result"
    }
   ],
   "source": [
    "fdist = nltk.FreqDist(only_names)\n",
    "duplicates = [(v,k) for k,v in fdist.items() if v >1]\n",
    "duplicates"
   ]
  },
  {
   "cell_type": "code",
   "execution_count": 19,
   "metadata": {
    "collapsed": false
   },
   "outputs": [
    {
     "data": {
      "text/plain": [
       "[('Casey', 'male'),\n",
       " ('Sandy', 'male'),\n",
       " ('Casey', 'female'),\n",
       " ('Sandy', 'female')]"
      ]
     },
     "execution_count": 19,
     "metadata": {},
     "output_type": "execute_result"
    }
   ],
   "source": [
    "[item for item in names if item[0] in [\"Casey\",\"Sandy\"]]"
   ]
  },
  {
   "cell_type": "markdown",
   "metadata": {},
   "source": [
    "We can see that all of the duplicate names appear twice, and appear to have both gender labels assigned to them.\n",
    "This means that the information contained in these names *cannot be used to correctly classify the gender*.\n",
    "These records will be excluded before any modeling."
   ]
  },
  {
   "cell_type": "code",
   "execution_count": 20,
   "metadata": {
    "collapsed": false
   },
   "outputs": [
    {
     "data": {
      "text/plain": [
       "7214"
      ]
     },
     "execution_count": 20,
     "metadata": {},
     "output_type": "execute_result"
    }
   ],
   "source": [
    "# Remove the duplicates\n",
    "dup_names = [item[1] for item in duplicates]\n",
    "input_names = [item for item in names if not item[0] in dup_names]\n",
    "len(input_names)"
   ]
  },
  {
   "cell_type": "markdown",
   "metadata": {},
   "source": [
    "We shall shuffle the data and split it into 3 sets:\n",
    "  \n",
    "1) Hold-out test set of size 500 used only for the evaluation of the final model   \n",
    "2) Training data consisting of:  \n",
    "      2a) Initial dev-test set of size 500 used to evaluate the first iterations of the model  \n",
    "      2b) Initial training set comprizing the remainder of the data\n",
    "  \n",
    "With each iteration of the model, the training set will be reshuffled and split again into dev-test and training data"
   ]
  },
  {
   "cell_type": "code",
   "execution_count": 21,
   "metadata": {
    "collapsed": false
   },
   "outputs": [],
   "source": [
    "def split_train_test(x, n_test):\n",
    "    \"\"\"Randomly splits a list into two lists with n_test records in one, \n",
    "    and the remainder in the other one.\"\"\"\n",
    "    \n",
    "    random.shuffle(x)\n",
    "    \n",
    "    return x[:n_test],x[n_test:]\n",
    "\n"
   ]
  },
  {
   "cell_type": "code",
   "execution_count": 22,
   "metadata": {
    "collapsed": false
   },
   "outputs": [],
   "source": [
    "test_set, training_data = split_train_test(input_names, 500) "
   ]
  },
  {
   "cell_type": "code",
   "execution_count": 23,
   "metadata": {
    "collapsed": false
   },
   "outputs": [
    {
     "name": "stdout",
     "output_type": "stream",
     "text": [
      "500 35.4\n"
     ]
    }
   ],
   "source": [
    "print (len(test_set), 100 * len([item for item in test_set if item[1] == \"male\"])/len(test_set))"
   ]
  },
  {
   "cell_type": "markdown",
   "metadata": {},
   "source": [
    "We see that the proportion of male names is preserved correctly in the holdout data.  \n",
    "\n",
    "Now we can get our initial training and dev-test datasets from the training data:"
   ]
  },
  {
   "cell_type": "code",
   "execution_count": 24,
   "metadata": {
    "collapsed": true
   },
   "outputs": [],
   "source": [
    "dev_test, train_set = split_train_test(training_data, 500) "
   ]
  },
  {
   "cell_type": "markdown",
   "metadata": {},
   "source": [
    "### 2. Train and evaluate the initial Naive Bayes classifier"
   ]
  },
  {
   "cell_type": "markdown",
   "metadata": {},
   "source": [
    "#### Prepare the initial features  \n",
    "  \n",
    "Initially, the following features will be used to build an initial Naive Bayes classifier and inspect its errors.\n",
    "  \n",
    "1) First letter of the name  \n",
    "2) Last letter of the name  \n",
    "3) Length of the name"
   ]
  },
  {
   "cell_type": "code",
   "execution_count": 25,
   "metadata": {
    "collapsed": true
   },
   "outputs": [],
   "source": [
    "def gender_features_0(name): \n",
    "    features = {}\n",
    "    features[\"firstletter\"] = name[0].lower() \n",
    "    features[\"lastletter\"] = name[-1].lower()\n",
    "    features[\"length\"] = len([c for c in name])\n",
    "    \n",
    "    return features"
   ]
  },
  {
   "cell_type": "code",
   "execution_count": 26,
   "metadata": {
    "collapsed": false
   },
   "outputs": [
    {
     "data": {
      "text/plain": [
       "({'firstletter': 'j', 'lastletter': 'n', 'length': 4},\n",
       " {'firstletter': 'a', 'lastletter': 'a', 'length': 6})"
      ]
     },
     "execution_count": 26,
     "metadata": {},
     "output_type": "execute_result"
    }
   ],
   "source": [
    "# Example\n",
    "gender_features_0(\"John\"), gender_features_0(\"Amanda\")"
   ]
  },
  {
   "cell_type": "markdown",
   "metadata": {},
   "source": [
    "#### Train and evaluate the initial classifier\n",
    "  \n",
    "In this section we setup the set of functions to train and evaluate Naive Bayes classifiers using different features as inputs and cross-validated accuracy as an output metric. In this way, we can quickly swap the feature generation functions and re-evaluate the classifier performance to find optimal features."
   ]
  },
  {
   "cell_type": "code",
   "execution_count": 28,
   "metadata": {
    "collapsed": false
   },
   "outputs": [],
   "source": [
    "def evaluate_model(dev_test, featurizer, classifier):\n",
    "    \"\"\"\n",
    "    Returns the accuracy, a contingency table, and the most informative features\n",
    "    of an NLTK classifier.\n",
    "    Based on the code from: Natural Language Processing with Python\n",
    "    by Steven Bird, Ewan Klein, and Edward Loper. 2009, O'Reilly Media\n",
    "    \"\"\"\n",
    "    # Generate test features\n",
    "    dev_test_ft = apply_features(featurizer, dev_test)\n",
    "\n",
    "    # Score the model on the test features\n",
    "    model_out = [classifier.classify(item[0]) for item in dev_test_ft]\n",
    "\n",
    "    # Evaluate the accuracy\n",
    "    accr = nltk.classify.accuracy(classifier, dev_test_ft)\n",
    "    \n",
    "\n",
    "    # Confusion matrix\n",
    "    true_label = [item[1] for item in dev_test_ft]\n",
    "    \n",
    "    \n",
    "    # Errors: Compare the true label with the classifier output\n",
    "    errors = []\n",
    "    for item in zip(dev_test,model_out):\n",
    "        if item[0][1] != item[1]:\n",
    "            errors.append( (item[0][1], item[1], item[0][0]))\n",
    "    \n",
    "    return dict(model_out = model_out,true_label=true_label,accr=accr,errors=errors)\n",
    "        \n",
    "def print_eval_results(classifier, eval_output,err_cnt):\n",
    "    \"Prints model evaluation output\"\n",
    "    \n",
    "    \n",
    "    print (\"Accuracy on the test set: {}% \\n\".format(eval_output[\"accr\"]*100))\n",
    "    # Main features \n",
    "    classifier.show_most_informative_features(10)\n",
    "    \n",
    "    print (\"\\n Confusion Matrix: \\n\")\n",
    "    print (nltk.ConfusionMatrix(eval_output[\"true_label\"],eval_output[\"model_out\"]))\n",
    "    print (\"\\n Errors: \\n\"), \n",
    "    for (tag, guess, name) in eval_output[\"errors\"][:err_cnt]: \n",
    "        print ('correct=%-8s guess=%-8s name=%-30s' %(tag, guess, name))\n",
    "\n",
    "def iterate_nb_validation(data, test_size, featurizer,n_iter):\n",
    "    \n",
    "    accuracy_out = []\n",
    "    \n",
    "    for item in range(0,n_iter):\n",
    "    \n",
    "        # Split dataset\n",
    "        dev_test, train_set = split_train_test(data, test_size) \n",
    "\n",
    "        # Generate training features\n",
    "        train_ft = apply_features(featurizer, train_set)\n",
    "    \n",
    "        # Apply Naive Bayes classifier\n",
    "        classifier = nltk.NaiveBayesClassifier.train(train_ft)\n",
    "        eval_result = evaluate_model(dev_test=dev_test, featurizer=featurizer,classifier=classifier)\n",
    "        \n",
    "        accuracy_out.append(eval_result[\"accr\"])\n",
    "        print (\".\", sep=''),\n",
    "    \n",
    "    return accuracy_out"
   ]
  },
  {
   "cell_type": "code",
   "execution_count": 29,
   "metadata": {
    "collapsed": false
   },
   "outputs": [
    {
     "name": "stdout",
     "output_type": "stream",
     "text": [
      "Accuracy on the test set: 81.39999999999999% \n",
      "\n",
      "Most Informative Features\n",
      "              lastletter = 'a'            female : male   =     48.7 : 1.0\n",
      "              lastletter = 'p'              male : female =     19.6 : 1.0\n",
      "              lastletter = 'v'              male : female =     18.4 : 1.0\n",
      "              lastletter = 'f'              male : female =     13.2 : 1.0\n",
      "              lastletter = 'm'              male : female =     12.2 : 1.0\n",
      "              lastletter = 'o'              male : female =     11.9 : 1.0\n",
      "              lastletter = 'd'              male : female =     11.7 : 1.0\n",
      "              lastletter = 'r'              male : female =      8.7 : 1.0\n",
      "             firstletter = 'w'              male : female =      5.5 : 1.0\n",
      "              lastletter = 'g'              male : female =      5.3 : 1.0\n",
      "\n",
      " Confusion Matrix: \n",
      "\n",
      "       |   f     |\n",
      "       |   e     |\n",
      "       |   m   m |\n",
      "       |   a   a |\n",
      "       |   l   l |\n",
      "       |   e   e |\n",
      "-------+---------+\n",
      "female |<287> 42 |\n",
      "  male |  51<120>|\n",
      "-------+---------+\n",
      "(row = reference; col = test)\n",
      "\n",
      "\n",
      " Errors: \n",
      "\n",
      "correct=female   guess=male     name=Yetty                         \n",
      "correct=male     guess=female   name=Elmore                        \n",
      "correct=female   guess=male     name=Susy                          \n",
      "correct=female   guess=male     name=Chrysler                      \n",
      "correct=male     guess=female   name=Jerzy                         \n",
      "correct=male     guess=female   name=Arnie                         \n",
      "correct=female   guess=male     name=Mariam                        \n",
      "correct=male     guess=female   name=Mitchell                      \n",
      "correct=male     guess=female   name=Nigel                         \n",
      "correct=male     guess=female   name=Jackson                       \n"
     ]
    }
   ],
   "source": [
    "# Split dataset\n",
    "dev_test, train_set = split_train_test(training_data, 500) \n",
    "\n",
    "# Generate training features\n",
    "train_ft = apply_features(gender_features_0, train_set)\n",
    "\n",
    "# Apply Naive Bayes classifier\n",
    "classifier_0 = nltk.NaiveBayesClassifier.train(train_ft)\n",
    "\n",
    "# Evaluate the features and classifier\n",
    "eval_0 = evaluate_model(dev_test=dev_test, featurizer=gender_features_0,classifier=classifier_0)\n",
    "print_eval_results(classifier_0,eval_0,10)"
   ]
  },
  {
   "cell_type": "markdown",
   "metadata": {},
   "source": [
    "We see that in this single validation fold the initial classifier **correctly assigns over 75% of labels**, which is significantly better than using the default split in the data (e.g. simply assigning all data to the class \"female\" would yield 63% accuracy).\n",
    "  \n",
    "Based on the Bayesian likelihood ratios, last letter seems to be the most decisive factor for the \"male\" or \"female\" label.\n",
    "\n",
    "Using a simple cross-validation approach by iteratively randomly splitting the training data into training and dev_test sets we can see how stable these results are in terms of the prediction accuracy: "
   ]
  },
  {
   "cell_type": "code",
   "execution_count": 30,
   "metadata": {
    "collapsed": false
   },
   "outputs": [
    {
     "name": "stdout",
     "output_type": "stream",
     "text": [
      ".\n",
      ".\n",
      ".\n",
      ".\n",
      ".\n",
      ".\n",
      ".\n",
      ".\n",
      ".\n",
      ".\n",
      ".\n",
      ".\n",
      ".\n",
      ".\n",
      ".\n",
      ".\n",
      ".\n",
      ".\n",
      ".\n",
      ".\n",
      ".\n",
      ".\n",
      ".\n",
      ".\n",
      ".\n",
      ".\n",
      ".\n",
      ".\n",
      ".\n",
      ".\n"
     ]
    }
   ],
   "source": [
    "nb_gf0 = iterate_nb_validation(data=training_data, test_size=500, \n",
    "                               featurizer=gender_features_0,n_iter=30)"
   ]
  },
  {
   "cell_type": "code",
   "execution_count": 31,
   "metadata": {
    "collapsed": false
   },
   "outputs": [
    {
     "data": {
      "image/png": "[encoded data removed]",
      "text/plain": [
       "<Figure size 432x216 with 1 Axes>"
      ]
     },
     "metadata": {
      "needs_background": "light"
     },
     "output_type": "display_data"
    }
   ],
   "source": [
    "plt.figure(figsize=(6,3))\n",
    "plt.boxplot(nb_gf0,1,\"D\",0)\n",
    "plt.title(\"Accuracy after 30 CV iterations: Naive Bayes + gender_features_0\")\n",
    "plt.show()"
   ]
  },
  {
   "cell_type": "markdown",
   "metadata": {},
   "source": [
    "On average, the initial classifier will correctly classify **about 80%** of names, and also that it's performance is  variable between 77% and 83% in 30 training iterations."
   ]
  },
  {
   "cell_type": "markdown",
   "metadata": {},
   "source": [
    "### 3. Engineering additional features\n",
    "  \n",
    "We can now engineer additional features and compare the accuracy with the above baseline model.  \n",
    "We will try:  \n",
    "  \n",
    "* adding a two-letter prefix and suffix as features (as we saw that the last letter of the word seems to carry more information)  \n",
    "\n",
    "In addition, as there variations in the way the names are spelled vs. pronounced, adding some form of phonetical features should be added as well. We will try: \n",
    "   \n",
    "* counting the occurrences of similar-sounding consonants (based on the [Soundex](https://en.wikipedia.org/wiki/Soundex?oldformat=true#American_Soundex) groups) \n",
    "  "
   ]
  },
  {
   "cell_type": "markdown",
   "metadata": {},
   "source": [
    "#### Adding Prefix and Suffix features"
   ]
  },
  {
   "cell_type": "code",
   "execution_count": 32,
   "metadata": {
    "collapsed": true
   },
   "outputs": [],
   "source": [
    "def gender_features_1(name): \n",
    "    features = {}\n",
    "    features[\"firstletter\"] = name[0].lower() \n",
    "    features[\"lastletter\"] = name[-1].lower()\n",
    "    features[\"suffix\"] = name[-2:].lower()\n",
    "    features[\"prefix\"] = name[:2].lower()\n",
    "    features[\"length\"] = len([c for c in name])\n",
    "    \n",
    "    return features"
   ]
  },
  {
   "cell_type": "code",
   "execution_count": 33,
   "metadata": {
    "collapsed": false
   },
   "outputs": [
    {
     "data": {
      "text/plain": [
       "({'firstletter': 'j',\n",
       "  'lastletter': 'n',\n",
       "  'suffix': 'hn',\n",
       "  'prefix': 'jo',\n",
       "  'length': 4},\n",
       " {'firstletter': 'a',\n",
       "  'lastletter': 'a',\n",
       "  'suffix': 'da',\n",
       "  'prefix': 'am',\n",
       "  'length': 6})"
      ]
     },
     "execution_count": 33,
     "metadata": {},
     "output_type": "execute_result"
    }
   ],
   "source": [
    "# Example\n",
    "gender_features_1(\"John\"), gender_features_1(\"Amanda\")"
   ]
  },
  {
   "cell_type": "code",
   "execution_count": 34,
   "metadata": {
    "collapsed": false
   },
   "outputs": [
    {
     "name": "stdout",
     "output_type": "stream",
     "text": [
      ".\n",
      ".\n",
      ".\n",
      ".\n",
      ".\n",
      ".\n",
      ".\n",
      ".\n",
      ".\n",
      ".\n",
      ".\n",
      ".\n",
      ".\n",
      ".\n",
      ".\n",
      ".\n",
      ".\n",
      ".\n",
      ".\n",
      ".\n",
      ".\n",
      ".\n",
      ".\n",
      ".\n",
      ".\n",
      ".\n",
      ".\n",
      ".\n",
      ".\n",
      ".\n"
     ]
    }
   ],
   "source": [
    "# Evaluate the features and classifier\n",
    "nb_gf1 = iterate_nb_validation(data=training_data, test_size=500, featurizer=gender_features_1,n_iter=30)"
   ]
  },
  {
   "cell_type": "code",
   "execution_count": 35,
   "metadata": {
    "collapsed": false
   },
   "outputs": [
    {
     "data": {
      "image/png": "[encoded data removed]",
      "text/plain": [
       "<Figure size 576x288 with 1 Axes>"
      ]
     },
     "metadata": {
      "needs_background": "light"
     },
     "output_type": "display_data"
    }
   ],
   "source": [
    "data = [nb_gf0, nb_gf1]\n",
    "labels=[\"nb_gf0\", \"nb_gf1\"]\n",
    "plt.figure(figsize=(8,4))\n",
    "plt.boxplot(data,1,\"D\",0,labels=labels)\n",
    "plt.title(\"Accuracy after 30 CV iterations: Naive Bayes model + Multiple Feature Sets\")\n",
    "plt.show()"
   ]
  },
  {
   "cell_type": "markdown",
   "metadata": {},
   "source": [
    "We can see that on average, the approach with added prefixes and suffixes perfoms better than the original approach, and classifies **about 84%** of names correctly.\n",
    "  \n",
    "We can inspect a random training and validation fold:"
   ]
  },
  {
   "cell_type": "code",
   "execution_count": 36,
   "metadata": {
    "collapsed": true
   },
   "outputs": [],
   "source": [
    "# Split dataset\n",
    "dev_test, train_set = split_train_test(training_data, 500) \n",
    "\n",
    "# Generate training features\n",
    "train_ft = apply_features(gender_features_1, train_set)"
   ]
  },
  {
   "cell_type": "code",
   "execution_count": 37,
   "metadata": {
    "collapsed": false
   },
   "outputs": [
    {
     "name": "stdout",
     "output_type": "stream",
     "text": [
      "Accuracy on the test set: 83.8% \n",
      "\n",
      "Most Informative Features\n",
      "                  suffix = 'na'           female : male   =    145.1 : 1.0\n",
      "              lastletter = 'k'              male : female =     71.5 : 1.0\n",
      "                  suffix = 'la'           female : male   =     65.7 : 1.0\n",
      "              lastletter = 'a'            female : male   =     58.5 : 1.0\n",
      "                  suffix = 'ia'           female : male   =     48.2 : 1.0\n",
      "                  suffix = 'ta'           female : male   =     40.5 : 1.0\n",
      "                  suffix = 'us'             male : female =     38.4 : 1.0\n",
      "                  suffix = 'ch'             male : female =     27.6 : 1.0\n",
      "                  suffix = 'rt'             male : female =     27.1 : 1.0\n",
      "                  suffix = 'do'             male : female =     25.3 : 1.0\n",
      "\n",
      " Confusion Matrix: \n",
      "\n",
      "       |   f     |\n",
      "       |   e     |\n",
      "       |   m   m |\n",
      "       |   a   a |\n",
      "       |   l   l |\n",
      "       |   e   e |\n",
      "-------+---------+\n",
      "female |<281> 32 |\n",
      "  male |  49<138>|\n",
      "-------+---------+\n",
      "(row = reference; col = test)\n",
      "\n",
      "\n",
      " Errors: \n",
      "\n",
      "correct=male     guess=female   name=Cole                          \n",
      "correct=male     guess=female   name=Jory                          \n",
      "correct=male     guess=female   name=Mischa                        \n",
      "correct=male     guess=female   name=Davide                        \n",
      "correct=male     guess=female   name=Marten                        \n",
      "correct=male     guess=female   name=Brody                         \n",
      "correct=male     guess=female   name=Ave                           \n",
      "correct=male     guess=female   name=Hymie                         \n",
      "correct=male     guess=female   name=Bartie                        \n",
      "correct=male     guess=female   name=Clemente                      \n"
     ]
    }
   ],
   "source": [
    "# Apply Naive Bayes classifier\n",
    "classifier_1 = nltk.NaiveBayesClassifier.train(train_ft)\n",
    "# Evaluate the features and classifier\n",
    "eval_1 = evaluate_model(dev_test=dev_test, featurizer=gender_features_1,classifier=classifier_1)\n",
    "print_eval_results(classifier_1,eval_1,10)"
   ]
  },
  {
   "cell_type": "markdown",
   "metadata": {},
   "source": [
    "Findings: \n",
    "  \n",
    "1) The classifier seems to perform better for male names than the original one.  \n",
    "2) The suffixes \"na\", \"la\", \"ia\" are very strong predictors of a female name, as well as \"a\" as the last letter (so probably largely this is already captured by the last letter feature)  \n",
    "3) The suffixes \"ld\" and \"rt\" are important for male names"
   ]
  },
  {
   "cell_type": "markdown",
   "metadata": {},
   "source": [
    "#### Adding Soundex consonant counts\n",
    "\n",
    "We add the counts of similar-sounding consonants based on Soundex"
   ]
  },
  {
   "cell_type": "code",
   "execution_count": 38,
   "metadata": {
    "collapsed": true
   },
   "outputs": [],
   "source": [
    "def gender_features_2(name): \n",
    "    features = {}\n",
    "    features[\"firstletter\"] = name[0].lower() \n",
    "    features[\"lastletter\"] = name[-1].lower()\n",
    "    features[\"length\"] = len([c for c in name])\n",
    "    features[\"sdx_1\"] = len([c for c in name if c in [\"b\", \"f\", \"p\", \"v\"]])\n",
    "    features[\"sdx_2\"] = len([c for c in name if c in [\"c\", \"g\", \"j\", \"k\", \"q\", \"s\", \"x\", \"z\"]])\n",
    "    features[\"sdx_3\"] = len([c for c in name if c in [\"d\", \"t\"]])\n",
    "    features[\"sdx_4\"] = len([c for c in name if c in [\"l\"]])\n",
    "    features[\"sdx_5\"] = len([c for c in name if c in [\"m\", \"n\"]])\n",
    "    features[\"sdx_6\"] = len([c for c in name if c in [\"r\"]])\n",
    "    features[\"sdx_6\"] = len([c for c in name if c in [\"r\"]])\n",
    "    \n",
    "    return features"
   ]
  },
  {
   "cell_type": "code",
   "execution_count": 39,
   "metadata": {
    "collapsed": false
   },
   "outputs": [
    {
     "data": {
      "text/plain": [
       "{'firstletter': 'r',\n",
       " 'lastletter': 'e',\n",
       " 'length': 6,\n",
       " 'sdx_1': 0,\n",
       " 'sdx_2': 0,\n",
       " 'sdx_3': 2,\n",
       " 'sdx_4': 0,\n",
       " 'sdx_5': 0,\n",
       " 'sdx_6': 0}"
      ]
     },
     "execution_count": 39,
     "metadata": {},
     "output_type": "execute_result"
    }
   ],
   "source": [
    "# Example\n",
    "gender_features_2(\"Ruddie\")"
   ]
  },
  {
   "cell_type": "code",
   "execution_count": 40,
   "metadata": {
    "collapsed": false
   },
   "outputs": [
    {
     "name": "stdout",
     "output_type": "stream",
     "text": [
      ".\n",
      ".\n",
      ".\n",
      ".\n",
      ".\n",
      ".\n",
      ".\n",
      ".\n",
      ".\n",
      ".\n",
      ".\n",
      ".\n",
      ".\n",
      ".\n",
      ".\n",
      ".\n",
      ".\n",
      ".\n",
      ".\n",
      ".\n",
      ".\n",
      ".\n",
      ".\n",
      ".\n",
      ".\n",
      ".\n",
      ".\n",
      ".\n",
      ".\n",
      ".\n"
     ]
    }
   ],
   "source": [
    "# Evaluate the features and classifier\n",
    "nb_gf2 = iterate_nb_validation(data=training_data, test_size=500, featurizer=gender_features_2,n_iter=30)"
   ]
  },
  {
   "cell_type": "code",
   "execution_count": 41,
   "metadata": {
    "collapsed": false
   },
   "outputs": [
    {
     "data": {
      "image/png": "[encoded data removed]",
      "text/plain": [
       "<Figure size 576x288 with 1 Axes>"
      ]
     },
     "metadata": {
      "needs_background": "light"
     },
     "output_type": "display_data"
    }
   ],
   "source": [
    "data = [nb_gf0, nb_gf1, nb_gf2]\n",
    "labels=[\"nb_gf0\", \"nb_gf1\",\"nb_gf2\"]\n",
    "plt.figure(figsize=(8,4))\n",
    "plt.boxplot(data,1,\"D\",0,labels=labels)\n",
    "plt.title(\"Accuracy after 30 CV iterations: Naive Bayes model + Multiple Feature Sets\")\n",
    "plt.show()"
   ]
  },
  {
   "cell_type": "markdown",
   "metadata": {},
   "source": [
    "We see that the use of similar-sounding consonants does not improve performance above the original version.\n",
    "\n",
    "We can try expanding the prefix-suffix approach further from the end of the word to see if additional combinations provide a better prediction, or if we will already see worse performance due to overfitting."
   ]
  },
  {
   "cell_type": "code",
   "execution_count": 42,
   "metadata": {
    "collapsed": true
   },
   "outputs": [],
   "source": [
    "def gender_features_3(name): \n",
    "    features = {}\n",
    "    features[\"firstletter\"] = name[0].lower() \n",
    "    features[\"lastletter\"] = name[-1].lower()\n",
    "    features[\"suffix_2\"] = name[-2:].lower()\n",
    "    features[\"suffix_3\"] = name[-3:].lower()\n",
    "    features[\"prefix_2\"] = name[:2].lower()\n",
    "    features[\"prefix_3\"] = name[:3].lower()\n",
    "    features[\"length\"] = len([c for c in name])\n",
    "    \n",
    "    return features"
   ]
  },
  {
   "cell_type": "code",
   "execution_count": 43,
   "metadata": {
    "collapsed": false
   },
   "outputs": [
    {
     "name": "stdout",
     "output_type": "stream",
     "text": [
      ".\n",
      ".\n",
      ".\n",
      ".\n",
      ".\n",
      ".\n",
      ".\n",
      ".\n",
      ".\n",
      ".\n",
      ".\n",
      ".\n",
      ".\n",
      ".\n",
      ".\n",
      ".\n",
      ".\n",
      ".\n",
      ".\n",
      ".\n",
      ".\n",
      ".\n",
      ".\n",
      ".\n",
      ".\n",
      ".\n",
      ".\n",
      ".\n",
      ".\n",
      ".\n"
     ]
    }
   ],
   "source": [
    "# Evaluate the features and classifier\n",
    "nb_gf3 = iterate_nb_validation(data=training_data, test_size=500, featurizer=gender_features_3,n_iter=30)"
   ]
  },
  {
   "cell_type": "code",
   "execution_count": 44,
   "metadata": {
    "collapsed": false
   },
   "outputs": [
    {
     "data": {
      "image/png": "[encoded data removed]",
      "text/plain": [
       "<Figure size 576x288 with 1 Axes>"
      ]
     },
     "metadata": {
      "needs_background": "light"
     },
     "output_type": "display_data"
    }
   ],
   "source": [
    "data = [nb_gf0, nb_gf1, nb_gf2, nb_gf3]\n",
    "labels=[\"nb_gf0\", \"nb_gf1\",\"nb_gf2\",\"nb_gf3\"]\n",
    "plt.figure(figsize=(8,4))\n",
    "plt.boxplot(data,1,\"D\",0,labels=labels)\n",
    "plt.title(\"Accuracy after 30 CV iterations: Naive Bayes model + Multiple Feature Sets\")\n",
    "plt.show()"
   ]
  },
  {
   "cell_type": "markdown",
   "metadata": {},
   "source": [
    "We can see a significant improvement over the previous versions to around **88%** accuracy, and a smaller variance in the accuracy.    \n",
    "Finally, we can try a different classifier algorithm that accounts for possible interactions between the features: a Maximum Entropy Classifier."
   ]
  },
  {
   "cell_type": "markdown",
   "metadata": {},
   "source": [
    "---\n",
    "### 4. Using another classifier: Maximum Entropy"
   ]
  },
  {
   "cell_type": "markdown",
   "metadata": {},
   "source": [
    "We apply a different classifier with the best feature set from the approach above. As it takes significantly longer to train ME classifiers, we shall run just 10 cross-validation iterations."
   ]
  },
  {
   "cell_type": "code",
   "execution_count": 46,
   "metadata": {
    "collapsed": true
   },
   "outputs": [],
   "source": [
    "from nltk.classify import MaxentClassifier\n",
    "\n",
    "def iterate_me_validation(data, test_size, featurizer,n_iter):\n",
    "    \n",
    "    accuracy_out = []\n",
    "    \n",
    "    for item in range(0,n_iter):\n",
    "    \n",
    "        # Split dataset\n",
    "        dev_test, train_set = split_train_test(data, test_size) \n",
    "\n",
    "        # Generate training features\n",
    "        train_ft = apply_features(featurizer, train_set)\n",
    "    \n",
    "        # Apply Naive Bayes classifier\n",
    "        algorithm = nltk.classify.MaxentClassifier.ALGORITHMS[1]\n",
    "        classifier = nltk.MaxentClassifier.train(train_ft, algorithm,max_iter=20)\n",
    "        eval_result = evaluate_model(dev_test=dev_test, featurizer=featurizer,classifier=classifier)\n",
    "        \n",
    "        accuracy_out.append(eval_result[\"accr\"])\n",
    "        print (\".\", sep=''),\n",
    "    \n",
    "    return accuracy_out"
   ]
  },
  {
   "cell_type": "code",
   "execution_count": 47,
   "metadata": {
    "collapsed": false
   },
   "outputs": [
    {
     "name": "stdout",
     "output_type": "stream",
     "text": [
      "  ==> Training (20 iterations)\n",
      "\n",
      "      Iteration    Log Likelihood    Accuracy\n",
      "      ---------------------------------------\n",
      "             1          -0.69315        0.357\n",
      "             2          -0.36762        0.849\n",
      "             3          -0.28836        0.892\n",
      "             4          -0.24887        0.905\n",
      "             5          -0.22451        0.913\n",
      "             6          -0.20746        0.920\n",
      "             7          -0.19455        0.925\n",
      "             8          -0.18425        0.931\n",
      "             9          -0.17574        0.934\n",
      "            10          -0.16852        0.938\n",
      "            11          -0.16228        0.941\n",
      "            12          -0.15678        0.943\n",
      "            13          -0.15190        0.947\n",
      "            14          -0.14751        0.950\n",
      "            15          -0.14353        0.953\n",
      "            16          -0.13991        0.954\n",
      "            17          -0.13658        0.957\n",
      "            18          -0.13351        0.958\n",
      "            19          -0.13067        0.959\n",
      "         Final          -0.12802        0.959\n",
      ".\n",
      "  ==> Training (20 iterations)\n",
      "\n",
      "      Iteration    Log Likelihood    Accuracy\n",
      "      ---------------------------------------\n",
      "             1          -0.69315        0.359\n",
      "             2          -0.37045        0.852\n",
      "             3          -0.29109        0.893\n",
      "             4          -0.25143        0.905\n",
      "             5          -0.22691        0.911\n",
      "             6          -0.20974        0.918\n",
      "             7          -0.19673        0.926\n",
      "             8          -0.18636        0.932\n",
      "             9          -0.17778        0.936\n",
      "            10          -0.17050        0.940\n",
      "            11          -0.16421        0.943\n",
      "            12          -0.15867        0.946\n",
      "            13          -0.15375        0.948\n",
      "            14          -0.14933        0.949\n",
      "            15          -0.14533        0.950\n",
      "            16          -0.14168        0.952\n",
      "            17          -0.13833        0.954\n",
      "            18          -0.13524        0.956\n",
      "            19          -0.13239        0.956\n",
      "         Final          -0.12973        0.957\n",
      ".\n",
      "  ==> Training (20 iterations)\n",
      "\n",
      "      Iteration    Log Likelihood    Accuracy\n",
      "      ---------------------------------------\n",
      "             1          -0.69315        0.356\n",
      "             2          -0.37004        0.849\n",
      "             3          -0.29122        0.890\n",
      "             4          -0.25174        0.904\n",
      "             5          -0.22733        0.911\n",
      "             6          -0.21023        0.918\n",
      "             7          -0.19727        0.925\n",
      "             8          -0.18694        0.930\n",
      "             9          -0.17841        0.935\n",
      "            10          -0.17116        0.939\n",
      "            11          -0.16489        0.943\n",
      "            12          -0.15937        0.946\n",
      "            13          -0.15447        0.948\n",
      "            14          -0.15006        0.949\n",
      "            15          -0.14607        0.951\n",
      "            16          -0.14243        0.953\n",
      "            17          -0.13908        0.955\n",
      "            18          -0.13600        0.956\n",
      "            19          -0.13315        0.956\n",
      "         Final          -0.13049        0.958\n",
      ".\n",
      "  ==> Training (20 iterations)\n",
      "\n",
      "      Iteration    Log Likelihood    Accuracy\n",
      "      ---------------------------------------\n",
      "             1          -0.69315        0.359\n",
      "             2          -0.37191        0.851\n",
      "             3          -0.29233        0.891\n",
      "             4          -0.25257        0.904\n",
      "             5          -0.22806        0.911\n",
      "             6          -0.21093        0.917\n",
      "             7          -0.19797        0.926\n",
      "             8          -0.18765        0.931\n",
      "             9          -0.17913        0.934\n",
      "            10          -0.17190        0.938\n",
      "            11          -0.16564        0.941\n",
      "            12          -0.16015        0.943\n",
      "            13          -0.15527        0.945\n",
      "            14          -0.15088        0.946\n",
      "            15          -0.14690        0.950\n",
      "            16          -0.14328        0.951\n",
      "            17          -0.13995        0.953\n",
      "            18          -0.13689        0.954\n",
      "            19          -0.13405        0.955\n",
      "         Final          -0.13141        0.956\n",
      ".\n",
      "  ==> Training (20 iterations)\n",
      "\n",
      "      Iteration    Log Likelihood    Accuracy\n",
      "      ---------------------------------------\n",
      "             1          -0.69315        0.359\n",
      "             2          -0.36726        0.852\n",
      "             3          -0.28783        0.895\n",
      "             4          -0.24841        0.907\n",
      "             5          -0.22414        0.915\n",
      "             6          -0.20716        0.921\n",
      "             7          -0.19431        0.928\n",
      "             8          -0.18406        0.932\n",
      "             9          -0.17558        0.937\n",
      "            10          -0.16838        0.939\n",
      "            11          -0.16214        0.942\n",
      "            12          -0.15666        0.945\n",
      "            13          -0.15178        0.947\n",
      "            14          -0.14740        0.950\n",
      "            15          -0.14343        0.952\n",
      "            16          -0.13981        0.954\n",
      "            17          -0.13648        0.956\n",
      "            18          -0.13342        0.958\n",
      "            19          -0.13058        0.959\n",
      "         Final          -0.12794        0.960\n",
      ".\n",
      "  ==> Training (20 iterations)\n",
      "\n",
      "      Iteration    Log Likelihood    Accuracy\n",
      "      ---------------------------------------\n",
      "             1          -0.69315        0.359\n",
      "             2          -0.37351        0.846\n",
      "             3          -0.29316        0.890\n",
      "             4          -0.25282        0.905\n",
      "             5          -0.22788        0.913\n",
      "             6          -0.21045        0.919\n",
      "             7          -0.19727        0.925\n",
      "             8          -0.18678        0.931\n",
      "             9          -0.17812        0.935\n",
      "            10          -0.17079        0.940\n",
      "            11          -0.16444        0.943\n",
      "            12          -0.15888        0.946\n",
      "            13          -0.15393        0.948\n",
      "            14          -0.14949        0.950\n",
      "            15          -0.14546        0.952\n",
      "            16          -0.14180        0.954\n",
      "            17          -0.13844        0.955\n",
      "            18          -0.13534        0.956\n",
      "            19          -0.13248        0.957\n",
      "         Final          -0.12981        0.958\n",
      ".\n",
      "  ==> Training (20 iterations)\n",
      "\n",
      "      Iteration    Log Likelihood    Accuracy\n",
      "      ---------------------------------------\n",
      "             1          -0.69315        0.358\n",
      "             2          -0.36876        0.848\n",
      "             3          -0.28937        0.892\n",
      "             4          -0.24981        0.902\n",
      "             5          -0.22544        0.911\n",
      "             6          -0.20841        0.916\n",
      "             7          -0.19553        0.924\n",
      "             8          -0.18527        0.930\n",
      "             9          -0.17679        0.934\n",
      "            10          -0.16959        0.940\n",
      "            11          -0.16337        0.943\n",
      "            12          -0.15790        0.944\n",
      "            13          -0.15304        0.947\n",
      "            14          -0.14868        0.950\n",
      "            15          -0.14472        0.952\n",
      "            16          -0.14112        0.953\n",
      "            17          -0.13781        0.955\n",
      "            18          -0.13476        0.956\n",
      "            19          -0.13194        0.958\n",
      "         Final          -0.12932        0.959\n",
      ".\n",
      "  ==> Training (20 iterations)\n",
      "\n",
      "      Iteration    Log Likelihood    Accuracy\n",
      "      ---------------------------------------\n",
      "             1          -0.69315        0.356\n",
      "             2          -0.36896        0.846\n",
      "             3          -0.29020        0.893\n",
      "             4          -0.25073        0.904\n",
      "             5          -0.22633        0.911\n",
      "             6          -0.20925        0.918\n",
      "             7          -0.19631        0.925\n",
      "             8          -0.18600        0.930\n",
      "             9          -0.17748        0.936\n",
      "            10          -0.17025        0.938\n",
      "            11          -0.16399        0.941\n",
      "            12          -0.15849        0.944\n",
      "            13          -0.15361        0.948\n",
      "            14          -0.14922        0.950\n",
      "            15          -0.14524        0.952\n",
      "            16          -0.14162        0.953\n",
      "            17          -0.13829        0.955\n",
      "            18          -0.13523        0.957\n",
      "            19          -0.13239        0.958\n",
      "         Final          -0.12975        0.959\n",
      ".\n",
      "  ==> Training (20 iterations)\n",
      "\n",
      "      Iteration    Log Likelihood    Accuracy\n",
      "      ---------------------------------------\n",
      "             1          -0.69315        0.356\n",
      "             2          -0.37113        0.849\n",
      "             3          -0.29215        0.890\n",
      "             4          -0.25254        0.903\n",
      "             5          -0.22805        0.912\n",
      "             6          -0.21090        0.918\n",
      "             7          -0.19791        0.925\n",
      "             8          -0.18754        0.932\n",
      "             9          -0.17897        0.937\n",
      "            10          -0.17169        0.939\n",
      "            11          -0.16539        0.943\n",
      "            12          -0.15986        0.945\n",
      "            13          -0.15493        0.947\n",
      "            14          -0.15051        0.948\n",
      "            15          -0.14650        0.950\n",
      "            16          -0.14285        0.951\n",
      "            17          -0.13950        0.953\n",
      "            18          -0.13641        0.955\n",
      "            19          -0.13356        0.956\n",
      "         Final          -0.13090        0.958\n",
      ".\n",
      "  ==> Training (20 iterations)\n",
      "\n",
      "      Iteration    Log Likelihood    Accuracy\n",
      "      ---------------------------------------\n",
      "             1          -0.69315        0.357\n",
      "             2          -0.36987        0.850\n",
      "             3          -0.29061        0.889\n",
      "             4          -0.25104        0.903\n",
      "             5          -0.22667        0.912\n",
      "             6          -0.20963        0.919\n",
      "             7          -0.19675        0.925\n",
      "             8          -0.18648        0.930\n",
      "             9          -0.17800        0.933\n",
      "            10          -0.17079        0.937\n",
      "            11          -0.16456        0.940\n",
      "            12          -0.15908        0.944\n",
      "            13          -0.15421        0.948\n",
      "            14          -0.14982        0.950\n",
      "            15          -0.14585        0.952\n",
      "            16          -0.14223        0.953\n",
      "            17          -0.13891        0.954\n",
      "            18          -0.13585        0.955\n",
      "            19          -0.13301        0.957\n",
      "         Final          -0.13037        0.958\n",
      ".\n"
     ]
    }
   ],
   "source": [
    "# Evaluate the features and classifier\n",
    "me_gf3 = iterate_me_validation(data=training_data, test_size=500, featurizer=gender_features_3,n_iter=10)"
   ]
  },
  {
   "cell_type": "code",
   "execution_count": 48,
   "metadata": {
    "collapsed": false
   },
   "outputs": [
    {
     "data": {
      "image/png": "[encoded data removed]",
      "text/plain": [
       "<Figure size 576x288 with 1 Axes>"
      ]
     },
     "metadata": {
      "needs_background": "light"
     },
     "output_type": "display_data"
    }
   ],
   "source": [
    "data = [nb_gf0, nb_gf1, nb_gf2, nb_gf3, me_gf3]\n",
    "labels=[\"nb_gf0\", \"nb_gf1\",\"nb_gf2\",\"nb_gf3\",\"me_gf3\"]\n",
    "plt.figure(figsize=(8,4))\n",
    "plt.boxplot(data,1,\"D\",0,labels=labels)\n",
    "plt.title(\"Accuracy after 30 CV iterations: Naive Bayes and MaxEntropy Models + Multiple Feature Sets\")\n",
    "plt.show()"
   ]
  },
  {
   "cell_type": "markdown",
   "metadata": {},
   "source": [
    "We can see that this classifier performs on par with Naive Bayes on the same set of features, achieving **above 86%** accuracy.\n",
    "We can now inspect a random training fold to understand the feature importance for this classifier:"
   ]
  },
  {
   "cell_type": "code",
   "execution_count": 49,
   "metadata": {
    "collapsed": true
   },
   "outputs": [],
   "source": [
    "# Split dataset\n",
    "dev_test, train_set = split_train_test(training_data, 500) \n",
    "\n",
    "# Generate training features\n",
    "train_ft = apply_features(gender_features_3, train_set)"
   ]
  },
  {
   "cell_type": "code",
   "execution_count": 50,
   "metadata": {
    "collapsed": false
   },
   "outputs": [
    {
     "name": "stdout",
     "output_type": "stream",
     "text": [
      "  ==> Training (20 iterations)\n",
      "\n",
      "      Iteration    Log Likelihood    Accuracy\n",
      "      ---------------------------------------\n",
      "             1          -0.69315        0.355\n",
      "             2          -0.37009        0.848\n",
      "             3          -0.29094        0.893\n",
      "             4          -0.25124        0.907\n",
      "             5          -0.22672        0.915\n",
      "             6          -0.20955        0.921\n",
      "             7          -0.19655        0.927\n",
      "             8          -0.18619        0.932\n",
      "             9          -0.17762        0.936\n",
      "            10          -0.17034        0.942\n",
      "            11          -0.16404        0.945\n",
      "            12          -0.15851        0.947\n",
      "            13          -0.15359        0.949\n",
      "            14          -0.14916        0.951\n",
      "            15          -0.14516        0.953\n",
      "            16          -0.14150        0.954\n",
      "            17          -0.13815        0.955\n",
      "            18          -0.13506        0.957\n",
      "            19          -0.13220        0.958\n",
      "         Final          -0.12955        0.960\n"
     ]
    }
   ],
   "source": [
    "# Apply Naive Bayes classifier\n",
    "algorithm = nltk.classify.MaxentClassifier.ALGORITHMS[1]\n",
    "classifier_me = nltk.MaxentClassifier.train(train_ft, algorithm,max_iter=20)\n",
    "\n",
    "# Evaluate the features and classifier\n",
    "eval_me = evaluate_model(dev_test=dev_test, featurizer=gender_features_3,classifier=classifier_me)"
   ]
  },
  {
   "cell_type": "code",
   "execution_count": 51,
   "metadata": {
    "collapsed": false
   },
   "outputs": [
    {
     "name": "stdout",
     "output_type": "stream",
     "text": [
      "Accuracy on the test set: 86.4% \n",
      "\n",
      "   7.076 suffix_3=='hna' and label is 'male'\n",
      "  -5.793 lastletter=='k' and label is 'female'\n",
      "   5.398 prefix_3=='eti' and label is 'male'\n",
      "  -4.814 prefix_3=='ros' and label is 'male'\n",
      "   4.667 prefix_3=='kle' and label is 'male'\n",
      "  -4.484 lastletter=='a' and label is 'male'\n",
      "  -4.476 suffix_2=='na' and label is 'male'\n",
      "   4.127 suffix_3=='zra' and label is 'male'\n",
      "   4.127 prefix_3=='ezr' and label is 'male'\n",
      "  -4.126 lastletter=='p' and label is 'female'\n",
      "\n",
      " Confusion Matrix: \n",
      "\n",
      "       |   f     |\n",
      "       |   e     |\n",
      "       |   m   m |\n",
      "       |   a   a |\n",
      "       |   l   l |\n",
      "       |   e   e |\n",
      "-------+---------+\n",
      "female |<285> 23 |\n",
      "  male |  45<147>|\n",
      "-------+---------+\n",
      "(row = reference; col = test)\n",
      "\n",
      "\n",
      " Errors: \n",
      "\n",
      "correct=female   guess=male     name=Benoite                       \n",
      "correct=male     guess=female   name=Davide                        \n",
      "correct=male     guess=female   name=Antone                        \n",
      "correct=female   guess=male     name=Solange                       \n",
      "correct=male     guess=female   name=Lucien                        \n",
      "correct=male     guess=female   name=Corby                         \n",
      "correct=female   guess=male     name=Monique                       \n",
      "correct=female   guess=male     name=Raquel                        \n",
      "correct=male     guess=female   name=Oran                          \n",
      "correct=female   guess=male     name=Poppy                         \n"
     ]
    }
   ],
   "source": [
    "print_eval_results(classifier=classifier_me,eval_output=eval_me,err_cnt=10)"
   ]
  },
  {
   "cell_type": "markdown",
   "metadata": {},
   "source": [
    "Findings:  \n",
    "1) The feature importance of the Maximum Entropy model is significantly harder to interpret, as multiple feature interactions are involved in defining the probability of a label  \n",
    "2) The errors returned by this classifier show some difficult cases, where it is hard to say from the sound of the name to which gender it belongs such as \"Rafa\" or \"Hollis\".  \n",
    "3) However, some \"simple\" names such as \"Emily\" were also misclassified."
   ]
  },
  {
   "cell_type": "markdown",
   "metadata": {},
   "source": [
    "---\n",
    "\n",
    "### 5. Performance on the holdout set\n",
    "\n",
    "As both the Naive Bayes and the Maximum Entropy classifier performed well on the training data, we choose the more parsimonious model - Naive Bayes - to continue and test the performance on the holdout test set.\n",
    "  \n",
    "This time though, we will train the Naive Bayes classifier on the full training dataset."
   ]
  },
  {
   "cell_type": "code",
   "execution_count": 56,
   "metadata": {
    "collapsed": true
   },
   "outputs": [],
   "source": [
    "# Train NB classifier on all training data\n",
    "\n",
    "classifier_final = nltk.NaiveBayesClassifier.train(train_ft)"
   ]
  },
  {
   "cell_type": "code",
   "execution_count": 57,
   "metadata": {
    "collapsed": false
   },
   "outputs": [
    {
     "name": "stdout",
     "output_type": "stream",
     "text": [
      "Accuracy on the test set: 89.2% \n",
      "\n",
      "Most Informative Features\n",
      "                suffix_2 = 'na'           female : male   =    143.2 : 1.0\n",
      "              lastletter = 'k'              male : female =     72.9 : 1.0\n",
      "                suffix_2 = 'la'           female : male   =     66.2 : 1.0\n",
      "                suffix_2 = 'ra'           female : male   =     56.4 : 1.0\n",
      "                suffix_2 = 'ia'           female : male   =     49.0 : 1.0\n",
      "              lastletter = 'a'            female : male   =     48.2 : 1.0\n",
      "                suffix_2 = 'ta'           female : male   =     39.3 : 1.0\n",
      "                suffix_2 = 'us'             male : female =     39.2 : 1.0\n",
      "                suffix_2 = 'rt'             male : female =     29.3 : 1.0\n",
      "              lastletter = 'f'              male : female =     25.9 : 1.0\n",
      "\n",
      " Confusion Matrix: \n",
      "\n",
      "       |   f     |\n",
      "       |   e     |\n",
      "       |   m   m |\n",
      "       |   a   a |\n",
      "       |   l   l |\n",
      "       |   e   e |\n",
      "-------+---------+\n",
      "female |<291> 32 |\n",
      "  male |  22<155>|\n",
      "-------+---------+\n",
      "(row = reference; col = test)\n",
      "\n",
      "\n",
      " Errors: \n",
      "\n",
      "correct=male     guess=female   name=Sarge                         \n",
      "correct=male     guess=female   name=Penn                          \n",
      "correct=male     guess=female   name=Lyle                          \n",
      "correct=male     guess=female   name=Morse                         \n",
      "correct=male     guess=female   name=Marve                         \n",
      "correct=male     guess=female   name=Godfree                       \n",
      "correct=female   guess=male     name=Barbie                        \n",
      "correct=female   guess=male     name=Winnifred                     \n",
      "correct=male     guess=female   name=Kermie                        \n",
      "correct=male     guess=female   name=Cobby                         \n"
     ]
    }
   ],
   "source": [
    "# Evaluate the features and the trained classifier\n",
    "eval_test = evaluate_model(dev_test=test_set, featurizer=gender_features_3,classifier=classifier_final)\n",
    "print_eval_results(classifier_final,eval_test,10)"
   ]
  },
  {
   "cell_type": "markdown",
   "metadata": {},
   "source": [
    "The final Naive Bayes classifier is performing comparably well on the holdout set compared to the previous cross-validation iterations achieving **87.6% accuracy**.  \n",
    "We can see that among the remaining 62 misclassified male and female names, a few are rare or unusually sounding for their gender: such as female names \"Chrysler\", \"Ealasaid\", and \"Doloritas\", and a male name \"Klee\"."
   ]
  },
  {
   "cell_type": "markdown",
   "metadata": {},
   "source": [
    "### Reference"
   ]
  },
  {
   "cell_type": "markdown",
   "metadata": {},
   "source": [
    "[Chapter 6: Learning to Classify Text](http://www.nltk.org/book/ch06.html) from  \n",
    "Natural Language Processing with Python, by Steven Bird, Ewan Klein and Edward Loper, Copyright © 2014 the authors. "
   ]
  }
 ],
 "metadata": {
  "interpreter": {
   "hash": "57c037c1339387bdb4c70f963857198d8dc179f2a317680e87e010892c664ca0"
  },
  "kernelspec": {
   "display_name": "Python 2",
   "language": "python",
   "name": "python3"
  },
  "language_info": {
   "codemirror_mode": {
    "name": "ipython",
    "version": 3
   },
   "file_extension": ".py",
   "mimetype": "text/x-python",
   "name": "python",
   "nbconvert_exporter": "python",
   "pygments_lexer": "ipython3",
   "version": "3.9.6"
  }
 },
 "nbformat": 4,
 "nbformat_minor": 2
}
